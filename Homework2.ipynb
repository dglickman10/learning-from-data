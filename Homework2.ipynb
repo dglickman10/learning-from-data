{
 "cells": [
  {
   "cell_type": "code",
   "execution_count": null,
   "metadata": {},
   "outputs": [],
   "source": [
    "# get libraries\n",
    "import numpy as np"
   ]
  },
  {
   "cell_type": "markdown",
   "metadata": {},
   "source": [
    "# Hoeffding Inequality\n",
    "Problems 1 and 2"
   ]
  },
  {
   "cell_type": "code",
   "execution_count": 28,
   "metadata": {},
   "outputs": [
    {
     "name": "stdout",
     "output_type": "stream",
     "text": [
      "working\n",
      "working\n",
      "working\n",
      "working\n",
      "working\n",
      "working\n",
      "working\n",
      "working\n",
      "working\n",
      "working\n",
      "hello\n",
      "avg V1: 0.5004700000000026\n",
      "avg Vrand: 0.4994049999999957\n",
      "avg Vmin: 0.03754399999997681\n"
     ]
    }
   ],
   "source": [
    "\n",
    "\n",
    "def hoeffding():\n",
    "    num_coins = 1000\n",
    "    num_flips = 10\n",
    "    repetitions = 100000\n",
    "    v1sum=vrandsum=vminsum=0.0\n",
    "\n",
    "\n",
    "    for i in range(repetitions):\n",
    "        # create coins\n",
    "        coins = np.random.randint(0, 2, [num_coins, num_flips])\n",
    "\n",
    "        # first coin heads fraction\n",
    "        v1sum += coins[0].mean()\n",
    "        # random coin fractions heads\n",
    "        vrandsum += coins[np.random.choice(coins.shape[0], 1, replace=False)].mean()\n",
    "        # coin with lowest frequency of heads, heads fraction\n",
    "        vminsum += np.min(np.sum(coins, axis=1))/num_flips\n",
    "        \n",
    "        if i % 10000 == 0: # placate human psychology\n",
    "            print(\"working\")\n",
    "\n",
    "\n",
    "    print(\"avg V1: \" + str(v1sum/repetitions))\n",
    "    print(\"avg Vrand: \" +  str(vrandsum/repetitions))\n",
    "    print(\"avg Vmin: \" + str(vminsum/repetitions))\n",
    "    \n",
    "# hoeffding()"
   ]
  },
  {
   "cell_type": "markdown",
   "metadata": {},
   "source": [
    "# Linear Regression\n",
    "Problems 5-7"
   ]
  },
  {
   "cell_type": "code",
   "execution_count": 63,
   "metadata": {},
   "outputs": [
    {
     "name": "stdout",
     "output_type": "stream",
     "text": [
      "avg E_in: 0.026\n",
      "avg Eout for N = 10: 0.10721900000000001\n",
      "Average number of iterations for N = 10: 4.545\n"
     ]
    },
    {
     "data": {
      "image/png": "[encoded data removed]",
      "text/plain": [
       "<Figure size 432x288 with 1 Axes>"
      ]
     },
     "metadata": {
      "needs_background": "light"
     },
     "output_type": "display_data"
    }
   ],
   "source": [
    "# much of this code is reused from Homework 1\n",
    "\n",
    "number_of_points = 10\n",
    "number_of_runs = 1000\n",
    "Ein = np.empty(number_of_runs)\n",
    "Eout = np.empty(number_of_runs)\n",
    "iters = np.empty(number_of_runs)\n",
    "\n",
    "\n",
    "\n",
    "for i in range(number_of_runs):\n",
    "    # create target function\n",
    "    target = np.random.uniform(-1,1,[2,2]) # create two random points to define line\n",
    "    \n",
    "    \n",
    "    \n",
    "    \n",
    "    # generate inputs\n",
    "    inputs = np.random.uniform(-1,1,[number_of_points,2])\n",
    "\n",
    "    # generate classification\n",
    "    def side(points, line):\n",
    "        \"\"\"Returns the side of the line the points are on.\"\"\"\n",
    "        return np.sign((points[:,0] - line[0,0]) * (line[1,1] - line [0,1]) - (points[:,1] - line[0,1]) * (line[1,0] - line[0,0])).astype('int_')\n",
    "\n",
    "    classification = side(inputs, target)\n",
    "    side1 = inputs[classification>0]\n",
    "    side2 = inputs[classification<=0]\n",
    "    \n",
    "    augmented = np.concatenate([np.ones([number_of_points,1]), inputs], axis=1) # add 1 as X_0\n",
    "    \n",
    "    w = np.linalg.pinv(augmented) @ classification\n",
    "    \n",
    "    # calculate Ein\n",
    "    hypothesis = np.sign(np.dot(w, np.transpose(augmented))).astype('int_')\n",
    "    incorrect = (hypothesis != classification)\n",
    "    Ein[i] = incorrect.mean()\n",
    "    \n",
    "     # compute P[f(x) != g(x)] (we will estimate for now)\n",
    "    test_data = np.random.uniform(-1,1,[1000, 2]) # generate sample data\n",
    "    \n",
    "    # calculate correct classification\n",
    "    # we have to do this now because side doesn't deal with the added 1's\n",
    "    proper = side(test_data, target)\n",
    "    \n",
    "    test_data = np.concatenate([np.ones([1000,1]), test_data], axis=1) # add 1's\n",
    "    hypoth = np.sign(np.dot(w, np.transpose(test_data))).astype('int_') # calculate h(x)\n",
    "    \n",
    "    incorrect = hypoth != proper\n",
    "    if i==1:        \n",
    "        #print(incorrect)\n",
    "        %matplotlib inline\n",
    "        import matplotlib.pyplot as plt\n",
    "        divider = np.linspace(-1,1,1000)\n",
    "        plt.ylim(-1.125,1.125)\n",
    "        plt.xlim(-1.125,1.125)\n",
    "        plt.plot(divider, ((target[0,1]-target[1,1]) / (target[0,0]-target[1,0]))*(divider - target[0, 0]) + target[0,1], c='green')\n",
    "        plt.plot(divider, (-w[0] - w[1]*divider)/w[2] , c='red')\n",
    "\n",
    "        plt.scatter(side1[:,0], side1[:, 1], c= 'orange')\n",
    "        plt.scatter(side2[:,0], side2[:, 1], c= 'blue')\n",
    "    \n",
    "    \n",
    "    Eout[i] = incorrect.mean()\n",
    "    \n",
    "    \n",
    "    # Do PlA\n",
    "    correct = np.full([1,number_of_points],False)\n",
    "    iterations = 0 # track iteratison\n",
    "    while True:\n",
    "    \n",
    "        hypothesis = np.sign(np.dot(w, np.transpose(augmented))).astype('int_')\n",
    "        correct = (hypothesis == classification)\n",
    "    \n",
    "        # check if done\n",
    "        if correct.all():\n",
    "            break\n",
    "    \n",
    "        misclass = augmented[~correct][0] #TODO: Make actually random\n",
    "    \n",
    "        #update w\n",
    "        w = w + classification[~correct][0] * misclass\n",
    "        iterations += 1\n",
    "    \n",
    "    # add number of iterations to the list\n",
    "    iters[i] = iterations\n",
    "\n",
    "    \n",
    "    \n",
    "    \n",
    "    \n",
    "    \n",
    "\n",
    "    \n",
    "    \n",
    "print(\"avg E_in: \" + str(Ein.mean()))\n",
    "print(\"avg Eout for N = \" + str(number_of_points) + \": \" + str(Eout.mean()))\n",
    "\n",
    "print(\"Average number of iterations for N = \" + str(number_of_points) + \": \" + str(iters.mean()))\n"
   ]
  },
  {
   "cell_type": "markdown",
   "metadata": {},
   "source": [
    "# Nonlinear Transformation\n",
    "Problems 8-10"
   ]
  },
  {
   "cell_type": "code",
   "execution_count": 136,
   "metadata": {},
   "outputs": [
    {
     "name": "stdout",
     "output_type": "stream",
     "text": [
      "avg E_in: 0.5084150000000001\n",
      "[-9.72122870e-01  9.94645891e-04  2.03134606e-04 -2.22630918e-03\n",
      "  1.52459867e+00  1.52836402e+00]\n"
     ]
    }
   ],
   "source": [
    "number_of_points = 1000\n",
    "\n",
    "\n",
    "\n",
    "\n",
    "\n",
    "def std_feature(input):\n",
    "    return np.concatenate([np.ones([input.shape[0],1]), input], axis=1) # add 1's\n",
    "\n",
    "\n",
    "def lin_regr(feature, classif):\n",
    "    return np.linalg.pinv(feature) @ classif\n",
    "\n",
    "def experiment(feat_fun):\n",
    "    #generate points\n",
    "    training_set = np.random.uniform(-1,1,[number_of_points,2])\n",
    "    \n",
    "    # generate classification with noise\n",
    "    # target (given by problem) : sign(x1^2+x2^2-0.6)\n",
    "    # noise: p(y|x)= .1 y!=f(x); .9 y != f(x)\n",
    "    classification = (np.sign(training_set[:,0]**2 + training_set[:,1]**2 - 0.6)\n",
    "                      * np.random.choice([-1,1], p=[0.1, 0.9]))\n",
    "\n",
    "    features = feat_fun(training_set)\n",
    "    \n",
    "    solution = lin_regr(features, classification)\n",
    "    \n",
    "    # find Ein\n",
    "    # calculate Ein\n",
    "    hypothesis = np.sign(np.dot(solution, np.transpose(features))).astype('int_')\n",
    "    incorrect = (hypothesis != classification)\n",
    "    Ein = incorrect.mean()\n",
    "    \n",
    "    return (solution, Ein)\n",
    "    \n",
    "\n",
    "def non_lin_feat(input):\n",
    "    return np.concatenate([np.ones([input.shape[0],1]), input,\n",
    "                            np.array([input[:,0] * input[:,1]]).T,\n",
    "                            np.array([input[:,0]**2]).T, np.array([input[:,1]**2]).T ],  axis=1)\n",
    "    \n",
    "    \n",
    "# run experiment for p8\n",
    "num_of_runs = 1000\n",
    "Ein = np.empty(num_of_runs)\n",
    "\n",
    "for i in range(num_of_runs):\n",
    "    _ , Ein[i] = experiment(std_feature)\n",
    "\n",
    "print(\"avg E_in: \" + str(Ein.mean()))\n",
    "\n",
    "# run for p9\n",
    "num_of_runs = 1000\n",
    "w = np.zeros(6)\n",
    "for i in range(num_of_runs):\n",
    "    t,_ = experiment(non_lin_feat)\n",
    "    w = w + t\n",
    "\n",
    "print(w/num_of_runs)\n",
    "\n",
    "# irresponsibly skipping question 10 (don't want to have to fix all my functions)"
   ]
  },
  {
   "cell_type": "code",
   "execution_count": null,
   "metadata": {},
   "outputs": [],
   "source": []
  },
  {
   "cell_type": "code",
   "execution_count": null,
   "metadata": {},
   "outputs": [],
   "source": []
  }
 ],
 "metadata": {
  "kernelspec": {
   "display_name": "Python 3",
   "language": "python",
   "name": "python3"
  },
  "language_info": {
   "codemirror_mode": {
    "name": "ipython",
    "version": 3
   },
   "file_extension": ".py",
   "mimetype": "text/x-python",
   "name": "python",
   "nbconvert_exporter": "python",
   "pygments_lexer": "ipython3",
   "version": "3.7.3"
  }
 },
 "nbformat": 4,
 "nbformat_minor": 2
}
