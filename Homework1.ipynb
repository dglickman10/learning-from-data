{
 "cells": [
  {
   "cell_type": "code",
   "execution_count": 18,
   "metadata": {},
   "outputs": [],
   "source": [
    "import numpy as np"
   ]
  },
  {
   "cell_type": "markdown",
   "metadata": {},
   "source": [
    "# The Perceptron Learning Algorithm\n",
    "\n",
    "This is the code for problems 6-9 of Homework 1 of Learning From Data. It's not very good but it does the job."
   ]
  },
  {
   "cell_type": "code",
   "execution_count": 21,
   "metadata": {},
   "outputs": [
    {
     "name": "stdout",
     "output_type": "stream",
     "text": [
      "Average number of iterations for N = 100: 199.127\n",
      "Generalization error for N = 100: 0.013594000000000002\n"
     ]
    }
   ],
   "source": [
    "number_of_points = 100\n",
    "number_of_runs = 1000\n",
    "iters = np.empty(number_of_runs)\n",
    "GE = np.empty(number_of_runs)\n",
    "\n",
    "for i in range(number_of_runs):\n",
    "    # create target function\n",
    "    target = np.random.uniform(-1,1,[2,2]) # create two random points to define line\n",
    "    \n",
    "    \n",
    "    \n",
    "    \n",
    "    # generate inputs\n",
    "    inputs = np.random.uniform(-1,1,[number_of_points,2])\n",
    "\n",
    "    # generate classification\n",
    "    def side(points, line):\n",
    "        \"\"\"Returns the side of the line the points are on.\"\"\"\n",
    "        return np.sign((points[:,0] - line[0,0]) * (line[1,1] - line [0,1]) - (points[:,1] - line[0,1]) * (line[1,0] - line[0,0])).astype('int_')\n",
    "\n",
    "    classification = side(inputs, target)\n",
    "    side1 = inputs[classification>0]\n",
    "    side2 = inputs[classification<=0]\n",
    "\n",
    "    # Perceptron Learning Algorithm\n",
    "    augmented = np.concatenate([np.ones([number_of_points,1]), inputs], axis=1) # add 1 as X_0 to match setup in book\n",
    "    w = np.zeros(3) # initialize weights\n",
    "    correct = np.full([1,number_of_points],False)\n",
    "    iterations = 0 # track iteratison\n",
    "    while True:\n",
    "    \n",
    "        hypothesis = np.sign(np.dot(w, np.transpose(augmented))).astype('int_')\n",
    "        correct = (hypothesis == classification)\n",
    "    \n",
    "        # check if done\n",
    "        if correct.all():\n",
    "            break\n",
    "    \n",
    "        misclass = augmented[~correct][0] #TODO: Make actually random\n",
    "    \n",
    "        #update w\n",
    "        w = w + classification[~correct][0] * misclass\n",
    "        iterations += 1\n",
    "    \n",
    "    # add number of iterations to the list\n",
    "    iters[i] = iterations\n",
    "    \n",
    "    # compute P[f(x) != g(x)] (we will estimate for now)\n",
    "    test_data = np.random.uniform(-1,1,[500, 2]) # generate sample data\n",
    "    \n",
    "    # calculate correct classification\n",
    "    # we have to do this now because side doesn't deal with the added 1's\n",
    "    proper = side(test_data, target)\n",
    "    \n",
    "    test_data = np.concatenate([np.ones([500,1]), test_data], axis=1) # add 1's\n",
    "    hypoth = np.sign(np.dot(w, np.transpose(test_data))).astype('int_') # calculate h(x)\n",
    "    \n",
    "    incorrect = hypoth != proper\n",
    "    GE[i] = incorrect.mean()\n",
    "\n",
    "\n",
    "\n",
    "print(\"Average number of iterations for N = \" + str(number_of_points) + \": \" + str(iters.mean()))\n",
    "print(\"Generalization error for N = \" + str(number_of_points) + \": \" + str(GE.mean()))"
   ]
  },
  {
   "cell_type": "code",
   "execution_count": 22,
   "metadata": {},
   "outputs": [
    {
     "data": {
      "text/plain": [
       "<matplotlib.collections.PathCollection at 0x7faa9491b3c8>"
      ]
     },
     "execution_count": 22,
     "metadata": {},
     "output_type": "execute_result"
    },
    {
     "data": {
      "image/png": "[encoded data removed]",
      "text/plain": [
       "<Figure size 432x288 with 1 Axes>"
      ]
     },
     "metadata": {
      "needs_background": "light"
     },
     "output_type": "display_data"
    }
   ],
   "source": [
    "# This is code for plotting the results of the PLA\n",
    "# I used this while working on the algorithm to help me visualize the process and to verify things were working.\n",
    "# It is no longer necessary since the cell above does all the work but I'm leaving it here for reference\n",
    "# and because it's a nice visualization.\n",
    "\n",
    "%matplotlib inline\n",
    "import matplotlib.pyplot as plt\n",
    "divider = np.linspace(-1,1,1000)\n",
    "plt.ylim(-1.125,1.125)\n",
    "plt.plot(divider, ((target[0,1]-target[1,1]) / (target[0,0]-target[1,0]))*(divider - target[0, 0]) + target[0,1], c='green')\n",
    "plt.plot(divider, (-w[0] - w[1]*divider)/w[2] , c='red')\n",
    "\n",
    "plt.scatter(side1[:,0], side1[:, 1], c= 'orange')\n",
    "plt.scatter(side2[:,0], side2[:, 1], c= 'blue')"
   ]
  },
  {
   "cell_type": "code",
   "execution_count": null,
   "metadata": {},
   "outputs": [],
   "source": []
  }
 ],
 "metadata": {
  "kernelspec": {
   "display_name": "Python 3",
   "language": "python",
   "name": "python3"
  },
  "language_info": {
   "codemirror_mode": {
    "name": "ipython",
    "version": 3
   },
   "file_extension": ".py",
   "mimetype": "text/x-python",
   "name": "python",
   "nbconvert_exporter": "python",
   "pygments_lexer": "ipython3",
   "version": "3.7.3"
  }
 },
 "nbformat": 4,
 "nbformat_minor": 2
}
